{
 "cells": [
  {
   "cell_type": "code",
   "execution_count": 1,
   "metadata": {},
   "outputs": [],
   "source": [
    "from qiskit_ionq import IonQProvider, ionq_job\n",
    "ionq_provider = IonQProvider(\"mycsEhnoIgARQdch53Zm7KJUePwFD0Wr\")\n",
    "from qiskit import QuantumCircuit, QuantumRegister, ClassicalRegister\n",
    "from qiskit.tools.visualization import plot_histogram, array_to_latex\n",
    "from qiskit.visualization import plot_state_city, plot_bloch_multivector\n",
    "from qiskit.quantum_info import Statevector, DensityMatrix, Operator\n",
    "from matplotlib import pyplot as plt\n",
    "import numpy as np\n",
    "import time"
   ]
  },
  {
   "cell_type": "code",
   "execution_count": 2,
   "metadata": {},
   "outputs": [
    {
     "data": {
      "image/png": "[encoded data removed]",
      "text/plain": [
       "<Figure size 748.797x385.28 with 1 Axes>"
      ]
     },
     "execution_count": 2,
     "metadata": {},
     "output_type": "execute_result"
    }
   ],
   "source": [
    "qr = QuantumRegister(5,'q')\n",
    "cr = ClassicalRegister(5,'c')\n",
    "qc = QuantumCircuit(qr,cr)\n",
    "\n",
    "qc.h(0)\n",
    "qc.cx(0,1)\n",
    "qc.cx(1,2)\n",
    "qc.cx(2,3)\n",
    "qc.cx(3,4)\n",
    "\n",
    "qc.measure_all(add_bits=False)\n",
    "qc.draw(output='mpl')"
   ]
  },
  {
   "cell_type": "code",
   "execution_count": 3,
   "metadata": {},
   "outputs": [],
   "source": [
    "sim_backend = ionq_provider.get_backend('ionq_simulator')\n",
    "\n",
    "qpu_backend = ionq_provider.get_backend('ionq_qpu')"
   ]
  },
  {
   "cell_type": "code",
   "execution_count": 4,
   "metadata": {},
   "outputs": [],
   "source": [
    "ID=[]"
   ]
  },
  {
   "cell_type": "code",
   "execution_count": 5,
   "metadata": {},
   "outputs": [],
   "source": [
    "row=[]\n",
    "for i in range(2):\n",
    "    for j in range(2):\n",
    "        for k in range(2):\n",
    "            for l in range(2):\n",
    "                for m in range(2):\n",
    "                    row.append(str(i)+str(j)+str(k)+str(l)+str(m))\n"
   ]
  },
  {
   "cell_type": "code",
   "execution_count": 6,
   "metadata": {},
   "outputs": [],
   "source": [
    "job = qpu_backend.run(qc,shots = 1024)\n",
    "n=0\n",
    "while n!=50:\n",
    "    if job.status().name == 'DONE':\n",
    "        ID.append(job.job_id())\n",
    "        job = qpu_backend.run(qc,shots = 1024)\n",
    "        n+=1\n",
    "    else:\n",
    "        time.sleep(500)"
   ]
  },
  {
   "cell_type": "code",
   "execution_count": 12,
   "metadata": {},
   "outputs": [
    {
     "data": {
      "text/plain": [
       "['11eefa8a-b43a-47f6-a16c-4368dcfc3652',\n",
       " '0a32f5a1-a27d-4ce7-97fb-399ecc016cd7',\n",
       " 'eb366595-12e8-42dc-86a7-8d22ccd3e69d',\n",
       " '23cc6eb9-c8b3-49e8-92d7-6c3d42b189a5',\n",
       " '2780ff82-dd6a-4e1f-91fb-0fab79fda263',\n",
       " 'df7441aa-ca3f-4955-84d6-7c7e1d4b1b43',\n",
       " 'e29d1e3c-ed68-4ef3-8dc5-4a3bc38280ec',\n",
       " '42e07ff0-99dd-486b-832e-6bd931b9dca4',\n",
       " '78bfa534-deef-4e16-9766-3790ee6ba9b7',\n",
       " '072ef507-cd9f-4fed-866c-eb0a9ce3dd58',\n",
       " 'ed205595-1441-4a2e-92ff-4efeb4e5581d',\n",
       " 'db866175-aef4-49db-a073-f2cd89c68897',\n",
       " 'd64ee00c-9cab-4994-934c-46d1e63dd241',\n",
       " '913ac440-ed54-45df-bf17-c2326a59db82',\n",
       " '050c8f5b-e8c4-415a-aa7a-855b93facc5d',\n",
       " 'f88efb7c-e353-4ee5-8236-afc8608ab53b',\n",
       " 'f78d7546-49af-4b4b-9aea-988586221658',\n",
       " '5593c1c5-ef21-4eeb-bec0-2be9a2560e9f',\n",
       " '697ccadd-31af-444d-9226-74bd17b6f11f',\n",
       " 'd78ab4e7-7cce-42ba-837a-968436c3e5a8',\n",
       " '6832eab3-d794-48ca-b92e-ae92adc8cb85',\n",
       " 'b736709f-b4a4-4d52-b716-bc7fb405491c',\n",
       " '8c37a764-b020-4325-a3e6-31d7d4d89a90',\n",
       " '8c69327f-800a-4942-8c16-7460ea0565b9',\n",
       " '84e5a738-c4b5-41e6-a5fc-d87a13ae0853',\n",
       " '80f44a5f-bd26-4f8d-a924-bb8fb278c10b',\n",
       " '98c26ba0-71e5-4c2f-a2e7-192c1e2f70eb',\n",
       " '13c51678-d6e0-4340-8142-4a8bf10eb302',\n",
       " '7e64c280-2209-4b5b-b85f-1e8d2ed7dc54',\n",
       " 'bf69c8f9-520e-4783-a8a1-3e73bd41b180',\n",
       " '013256cc-59e4-4a79-98fd-44c4552a8dc5',\n",
       " 'd879f9df-feb2-40a0-b3cf-b2facbfd072d',\n",
       " '6c9a22d8-aab1-46db-9ecc-9248dd478f25',\n",
       " '862ef9f3-eebd-4f30-b570-3964c5b5fed1',\n",
       " '50a0c523-27fa-40c7-8b5e-0e9d1323bfe2',\n",
       " '724031e9-9603-4244-9596-02631f34be73',\n",
       " 'ec8e401f-f5df-4024-a3ae-72d008e65ed5',\n",
       " '680ccd96-9206-449d-bbe6-3e8fc216e783',\n",
       " '05a70119-2a79-4776-9f95-abb3d5fab60f',\n",
       " 'e2395d72-2e80-41b5-b652-d92d0338494a',\n",
       " '7e163e8d-0309-4142-b38d-2c48a3726342',\n",
       " '1ee4a5e0-0695-4d79-8d2d-9189ab780d41',\n",
       " '29aad972-43ea-4cd1-a3b2-d0c1a8735a0f',\n",
       " '4c74f464-9f61-4f24-815b-83d225f2e813',\n",
       " '19810e4c-192b-424c-a31c-a3647ff70c8f',\n",
       " 'ec16cee4-0cf2-41fa-a70c-40a1a7d6ba46',\n",
       " '76730216-eb9c-49af-9162-ae75ada8abd4',\n",
       " 'b1b60425-25a2-4d73-88e0-b7d7e9dd5e7d',\n",
       " '9859e682-6622-4fcb-b384-a6bf9ebbfe66',\n",
       " '5ee0a622-2090-4e17-bbba-f797c9755f79']"
      ]
     },
     "execution_count": 12,
     "metadata": {},
     "output_type": "execute_result"
    }
   ],
   "source": [
    "ID"
   ]
  },
  {
   "cell_type": "code",
   "execution_count": 17,
   "metadata": {},
   "outputs": [],
   "source": [
    "f = open(\"C:/Users/cbk92/Desktop/VSC_code/IONQ/ID.txt\",'w')\n",
    "\n",
    "for i in range(50):\n",
    "    f.write(ID[i])\n",
    "    f.write('\\n')\n",
    "\n",
    "f.close()\n"
   ]
  },
  {
   "cell_type": "code",
   "execution_count": 9,
   "metadata": {},
   "outputs": [],
   "source": [
    "for i in range(50):\n",
    "    job_ret = qpu_backend.retrieve_job(ID[i])\n",
    "    probs = job_ret.get_probabilities()\n",
    "    counts = job_ret.get_counts()\n",
    "    for k in range(32):\n",
    "        if row[k] not in probs.keys():\n",
    "            probs[row[k]] = 0\n",
    "    probs_tup = sorted(probs.items())\n",
    "    probs_list = []\n",
    "    for j in range(32):\n",
    "        a=probs_tup[j][1]\n",
    "        probs_list.append(a)\n",
    "    probs_arr = np.array(probs_list)\n",
    "    if i == 0:\n",
    "        all_probs = probs_arr\n",
    "    else:\n",
    "        all_probs = np.vstack((all_probs,probs_arr))"
   ]
  },
  {
   "cell_type": "code",
   "execution_count": 1,
   "metadata": {},
   "outputs": [
    {
     "ename": "NameError",
     "evalue": "name 'plt' is not defined",
     "output_type": "error",
     "traceback": [
      "\u001b[1;31m---------------------------------------------------------------------------\u001b[0m",
      "\u001b[1;31mNameError\u001b[0m                                 Traceback (most recent call last)",
      "\u001b[1;32mc:\\Users\\cbk92\\Desktop\\VSC_code\\IONQ\\GHZ_state_50.ipynb Cell 10'\u001b[0m in \u001b[0;36m<cell line: 1>\u001b[1;34m()\u001b[0m\n\u001b[1;32m----> <a href='vscode-notebook-cell:/c%3A/Users/cbk92/Desktop/VSC_code/IONQ/GHZ_state_50.ipynb#ch0000009?line=0'>1</a>\u001b[0m plt\u001b[39m.\u001b[39mfigure(figsize\u001b[39m=\u001b[39m(\u001b[39m15\u001b[39m,\u001b[39m15\u001b[39m))\n\u001b[0;32m      <a href='vscode-notebook-cell:/c%3A/Users/cbk92/Desktop/VSC_code/IONQ/GHZ_state_50.ipynb#ch0000009?line=1'>2</a>\u001b[0m plt\u001b[39m.\u001b[39mimshow(all_probs,cmap\u001b[39m=\u001b[39m\u001b[39m'\u001b[39m\u001b[39mnipy_spectral\u001b[39m\u001b[39m'\u001b[39m)\n\u001b[0;32m      <a href='vscode-notebook-cell:/c%3A/Users/cbk92/Desktop/VSC_code/IONQ/GHZ_state_50.ipynb#ch0000009?line=2'>3</a>\u001b[0m plt\u001b[39m.\u001b[39mclim(\u001b[39m0\u001b[39m,\u001b[39m0.6\u001b[39m)\n",
      "\u001b[1;31mNameError\u001b[0m: name 'plt' is not defined"
     ]
    }
   ],
   "source": [
    "plt.figure(figsize=(15,15))\n",
    "plt.imshow(all_probs,cmap='gray')\n",
    "plt.clim(0,0.6)\n",
    "plt.xticks(range(len(row)),labels=row,rotation=90,fontsize = 8)\n",
    "plt.xlabel('output state')\n",
    "plt.ylabel('number of iteration')\n",
    "plt.title('GHZ 5Q')\n",
    "\n",
    "cbar = plt.colorbar()\n",
    "cbar.set_label('probability')\n",
    "plt.show()"
   ]
  },
  {
   "cell_type": "code",
   "execution_count": null,
   "metadata": {},
   "outputs": [],
   "source": []
  }
 ],
 "metadata": {
  "interpreter": {
   "hash": "c109c2ac43b1b69b107dfaa34f5434c675aaffc4e67542044f0f5a7f8882fbed"
  },
  "kernelspec": {
   "display_name": "Python 3.9.12 ('IONQ')",
   "language": "python",
   "name": "python3"
  },
  "language_info": {
   "codemirror_mode": {
    "name": "ipython",
    "version": 3
   },
   "file_extension": ".py",
   "mimetype": "text/x-python",
   "name": "python",
   "nbconvert_exporter": "python",
   "pygments_lexer": "ipython3",
   "version": "3.9.12"
  },
  "orig_nbformat": 4
 },
 "nbformat": 4,
 "nbformat_minor": 2
}

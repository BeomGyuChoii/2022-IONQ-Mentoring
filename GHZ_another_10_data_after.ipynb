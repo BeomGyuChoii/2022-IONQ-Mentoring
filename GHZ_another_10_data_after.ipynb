{
 "cells": [
  {
   "cell_type": "code",
   "execution_count": 22,
   "metadata": {},
   "outputs": [],
   "source": [
    "from qiskit_ionq import IonQProvider, ionq_job\n",
    "ionq_provider = IonQProvider(\"mycsEhnoIgARQdch53Zm7KJUePwFD0Wr\")\n",
    "from qiskit import QuantumCircuit, QuantumRegister, ClassicalRegister\n",
    "from qiskit.tools.visualization import plot_histogram, array_to_latex\n",
    "from qiskit.visualization import plot_state_city, plot_bloch_multivector\n",
    "from qiskit.quantum_info import Statevector, DensityMatrix, Operator\n",
    "import matplotlib.pyplot as plt\n",
    "import pylab as pl\n",
    "\n",
    "import numpy as np\n",
    "import matplotlib.colorbar as cbar\n",
    "from matplotlib.colors import LogNorm"
   ]
  },
  {
   "cell_type": "code",
   "execution_count": 23,
   "metadata": {},
   "outputs": [],
   "source": [
    "f = open(\"C:/Users/cbk92/Desktop/VSC_code/IONQ/ID_time/ID_10_another.txt\",'r')\n",
    "ID_after=f.readlines()\n",
    "\n",
    "\n",
    "\n",
    "f.close()"
   ]
  },
  {
   "cell_type": "code",
   "execution_count": 24,
   "metadata": {},
   "outputs": [],
   "source": [
    "for i in range(10):\n",
    "    ID_after[i] = ID_after[i].strip('\\n')"
   ]
  },
  {
   "cell_type": "code",
   "execution_count": 25,
   "metadata": {},
   "outputs": [],
   "source": [
    "tf = open(\"C:/Users/cbk92/Desktop/VSC_code/IONQ/ID_time/another_time.txt\",'r')\n",
    "time_after=tf.readlines()\n",
    "tf.close()"
   ]
  },
  {
   "cell_type": "code",
   "execution_count": 26,
   "metadata": {},
   "outputs": [],
   "source": [
    "for i in range(10):\n",
    "    time_after[i] = time_after[i].strip('\\n')"
   ]
  },
  {
   "cell_type": "code",
   "execution_count": 27,
   "metadata": {},
   "outputs": [],
   "source": [
    "for i in range(10):\n",
    "    time_after[i] = float(time_after[i])"
   ]
  },
  {
   "cell_type": "code",
   "execution_count": 28,
   "metadata": {},
   "outputs": [],
   "source": [
    "sim_backend = ionq_provider.get_backend('ionq_simulator')\n",
    "\n",
    "qpu_backend = ionq_provider.get_backend('ionq_qpu')"
   ]
  },
  {
   "cell_type": "code",
   "execution_count": 29,
   "metadata": {},
   "outputs": [],
   "source": [
    "row=[]\n",
    "for i in range(2):\n",
    "    for j in range(2):\n",
    "        for k in range(2):\n",
    "            for l in range(2):\n",
    "                for m in range(2):\n",
    "                    row.append(str(i)+str(j)+str(k)+str(l)+str(m))"
   ]
  },
  {
   "cell_type": "code",
   "execution_count": 30,
   "metadata": {},
   "outputs": [],
   "source": [
    "for i in range(10):\n",
    "    job_ret = qpu_backend.retrieve_job(ID_after[i])\n",
    "    probs = job_ret.get_probabilities()\n",
    "    counts = job_ret.get_counts()\n",
    "    for k in range(32):\n",
    "        if row[k] not in probs.keys():\n",
    "            probs[row[k]] = 0\n",
    "    probs_tup = sorted(probs.items())\n",
    "    probs_list = []\n",
    "    for j in range(32):\n",
    "        a=probs_tup[j][1]\n",
    "        probs_list.append(a)\n",
    "    probs_arr = np.array(probs_list)\n",
    "    if i == 0:\n",
    "        all_probs = probs_arr\n",
    "    else:\n",
    "        all_probs = np.vstack((all_probs,probs_arr))"
   ]
  },
  {
   "cell_type": "code",
   "execution_count": 31,
   "metadata": {},
   "outputs": [],
   "source": [
    "xtk=[]\n",
    "for i in range(32):\n",
    "    xtk.append(i+0.5)\n",
    "y_loc=[]\n",
    "for i in range(10):\n",
    "    if float(time_after[i])==0:\n",
    "        continue\n",
    "    else:\n",
    "        y_loc.append(round(float(time_after[i])-float(time_after[i-1]),5))"
   ]
  },
  {
   "cell_type": "code",
   "execution_count": 32,
   "metadata": {},
   "outputs": [
    {
     "data": {
      "text/plain": [
       "[0.0, 9.0, 21.0, 32.0, 41.0, 50.0, 102.0, 116.0, 126.0, 135.0]"
      ]
     },
     "execution_count": 32,
     "metadata": {},
     "output_type": "execute_result"
    }
   ],
   "source": [
    "time_after"
   ]
  },
  {
   "cell_type": "code",
   "execution_count": 33,
   "metadata": {},
   "outputs": [
    {
     "data": {
      "image/png": "[encoded data removed]",
      "text/plain": [
       "<Figure size 504x432 with 2 Axes>"
      ]
     },
     "metadata": {
      "needs_background": "light"
     },
     "output_type": "display_data"
    }
   ],
   "source": [
    "fig,ax=pl.subplots(1,figsize=(7,6))\n",
    "\n",
    "plt.xlabel('Output State',fontsize = 15,labelpad = 15)\n",
    "plt.ylabel('Time After First Run (second)',fontsize = 15,labelpad = 15)\n",
    "\n",
    "plt.title('GHZ 5Q QPU',fontsize = 30,y=1.05)\n",
    "normal = pl.Normalize(0,0.6)\n",
    "colors=pl.cm.GnBu(normal(all_probs))\n",
    "\n",
    "plt.yticks(time_after,labels=time_after,fontsize = 10)\n",
    "plt.xticks(xtk,labels=row,rotation=90,fontsize = 10)\n",
    "#norm=LogNorm(vmin=0.0001,vmax=1) 넣으면 로그스케일, 대신 0이 표현안되는데 해결책 못찾음\n",
    "\n",
    "for i in range(9):\n",
    "    for j in range(32):\n",
    "        rect = pl.Rectangle((j,time_after[i]),1,float(y_loc[i]),\n",
    "        color=colors[i][j])\n",
    "        ax.add_patch(rect)\n",
    "plt.gca().invert_yaxis()\n",
    "cax, _ = cbar.make_axes(ax) \n",
    "cb2 = cbar.ColorbarBase(cax, cmap=pl.cm.GnBu,norm=normal)\n",
    "cb2.set_label(label='Probability',size=15) \n",
    "ax.set_xlim(0,32)\n",
    "plt.show()"
   ]
  },
  {
   "cell_type": "code",
   "execution_count": 34,
   "metadata": {},
   "outputs": [],
   "source": [
    "ideal = []\n",
    "for i in range(32):\n",
    "    if i == 0 or i == 31:\n",
    "        ideal.append(0.5)\n",
    "    else:\n",
    "        ideal.append(0)"
   ]
  },
  {
   "cell_type": "code",
   "execution_count": 35,
   "metadata": {},
   "outputs": [],
   "source": [
    "for i in range(10):\n",
    "    err_list = []\n",
    "    for j in range(32):\n",
    "        a=ideal[j]-all_probs[i][j]\n",
    "        err_list.append(a)\n",
    "    err_arr = np.array(err_list)\n",
    "    if i == 0:\n",
    "        all_err = err_arr\n",
    "    else:\n",
    "        all_err = np.vstack((all_err,err_arr))    "
   ]
  },
  {
   "cell_type": "code",
   "execution_count": 36,
   "metadata": {},
   "outputs": [
    {
     "data": {
      "image/png": "[encoded data removed]",
      "text/plain": [
       "<Figure size 504x432 with 2 Axes>"
      ]
     },
     "metadata": {
      "needs_background": "light"
     },
     "output_type": "display_data"
    }
   ],
   "source": [
    "fig,ax=pl.subplots(1,figsize=(7,6))\n",
    "normal = pl.Normalize(-0.1,0.1)\n",
    "colors=pl.cm.bwr(normal(all_err))\n",
    "plt.xlim(0,32)\n",
    "\n",
    "plt.yticks(time_after,labels=time_after,fontsize = 10)\n",
    "plt.xticks(xtk,labels=row,rotation=90,fontsize = 10)\n",
    "#norm=LogNorm(vmin=0.0001,vmax=1) 넣으면 로그스케일, 대신 0이 표현안되는데 해결책 못찾음\n",
    "font = {'family':'Times New Roman','color':'red','weight':'bold','size':10}\n",
    "plt.xlabel('Output State',fontsize = 15,labelpad = 15)\n",
    "plt.ylabel('Time After First Run (second)',fontsize = 15,labelpad = 15)\n",
    "for i in range(9):\n",
    "    for j in range(32):\n",
    "        rect = pl.Rectangle((j,time_after[i]),1,float(y_loc[i]),\n",
    "        color=colors[i][j])\n",
    "        ax.add_patch(rect)\n",
    "\n",
    "plt.gca().invert_yaxis()\n",
    "cax, _ = cbar.make_axes(ax) \n",
    "cb2 = cbar.ColorbarBase(cax, cmap=pl.cm.bwr,norm=normal) \n",
    "ax.set_xlim(0,32)\n",
    "cb2.set_label(label='Error Rate',size=15)\n",
    "plt.subplot(111)\n",
    "plt.show()"
   ]
  },
  {
   "cell_type": "code",
   "execution_count": 37,
   "metadata": {},
   "outputs": [],
   "source": [
    "avg_err=[]\n",
    "\n",
    "for i in range(10):\n",
    "    total=0\n",
    "    for j in range(32):\n",
    "        total += abs(all_err[i][j])\n",
    "    average = total/32\n",
    "    avg_err.append(average)"
   ]
  },
  {
   "cell_type": "code",
   "execution_count": 38,
   "metadata": {},
   "outputs": [
    {
     "data": {
      "text/plain": [
       "[0.00537109375,\n",
       " 0.00531005859375,\n",
       " 0.0048828125,\n",
       " 0.0047607421875,\n",
       " 0.00555419921875,\n",
       " 0.006377551020408164,\n",
       " 0.00506591796875,\n",
       " 0.005615234375,\n",
       " 0.005126953125,\n",
       " 0.0048828125]"
      ]
     },
     "execution_count": 38,
     "metadata": {},
     "output_type": "execute_result"
    }
   ],
   "source": [
    "avg_err"
   ]
  },
  {
   "cell_type": "code",
   "execution_count": 39,
   "metadata": {},
   "outputs": [],
   "source": [
    "xtkk = [0.003,0.004,0.005,0.006,0.007]\n",
    "\n"
   ]
  },
  {
   "cell_type": "code",
   "execution_count": 40,
   "metadata": {},
   "outputs": [
    {
     "data": {
      "text/plain": [
       "[<matplotlib.lines.Line2D at 0x1c5a3405850>]"
      ]
     },
     "execution_count": 40,
     "metadata": {},
     "output_type": "execute_result"
    },
    {
     "data": {
      "image/png": "[encoded data removed]",
      "text/plain": [
       "<Figure size 144x432 with 1 Axes>"
      ]
     },
     "metadata": {
      "needs_background": "light"
     },
     "output_type": "display_data"
    }
   ],
   "source": [
    "fig,ax=pl.subplots(1,figsize=(2,6))\n",
    "\n",
    "plt.xlim(0.003,0.007)\n",
    "plt.ylim(0,0.0375)\n",
    "plt.yticks(ticks=time_after,labels=time_after,fontsize = 10)\n",
    "plt.xticks(xtkk,labels=xtkk,fontsize = 10)\n",
    "plt.xlabel('Average Error',fontsize = 15,labelpad = 15)\n",
    "plt.ylabel('Time After First Run (second)',fontsize = 15,labelpad = 15)\n",
    "plt.gca().invert_yaxis()\n",
    "lineStyle={\"linestyle\":\"-\", \"linewidth\":0, \"markeredgewidth\":1, \"elinewidth\":0.5, \"capsize\":3}\n",
    "ax.errorbar(avg_err,time_after,xerr=np.std(avg_err),**lineStyle,color='red')\n",
    "plt.plot(avg_err,time_after,color='#7f7f7f',marker='o')"
   ]
  },
  {
   "cell_type": "code",
   "execution_count": 41,
   "metadata": {},
   "outputs": [
    {
     "data": {
      "text/plain": [
       "0.005294737523915816"
      ]
     },
     "execution_count": 41,
     "metadata": {},
     "output_type": "execute_result"
    }
   ],
   "source": [
    "np.mean(avg_err)"
   ]
  },
  {
   "cell_type": "code",
   "execution_count": null,
   "metadata": {},
   "outputs": [],
   "source": []
  }
 ],
 "metadata": {
  "interpreter": {
   "hash": "c109c2ac43b1b69b107dfaa34f5434c675aaffc4e67542044f0f5a7f8882fbed"
  },
  "kernelspec": {
   "display_name": "Python 3.9.12 ('IONQ')",
   "language": "python",
   "name": "python3"
  },
  "language_info": {
   "codemirror_mode": {
    "name": "ipython",
    "version": 3
   },
   "file_extension": ".py",
   "mimetype": "text/x-python",
   "name": "python",
   "nbconvert_exporter": "python",
   "pygments_lexer": "ipython3",
   "version": "3.9.12"
  },
  "orig_nbformat": 4
 },
 "nbformat": 4,
 "nbformat_minor": 2
}
